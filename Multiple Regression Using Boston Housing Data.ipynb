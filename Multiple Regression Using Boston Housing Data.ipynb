{
 "cells": [
  {
   "cell_type": "code",
   "execution_count": null,
   "metadata": {},
   "outputs": [],
   "source": [
    "import numpy as np\n",
    "import pandas as pd\n",
    "import matplotlib.pyplot as plt\n",
    "%matplotlib inline\n",
    "import seaborn as sns"
   ]
  },
  {
   "cell_type": "code",
   "execution_count": null,
   "metadata": {},
   "outputs": [],
   "source": [
    "from sklearn.datasets import load_boston"
   ]
  },
  {
   "cell_type": "code",
   "execution_count": null,
   "metadata": {},
   "outputs": [],
   "source": [
    "boston_data = load_boston()"
   ]
  },
  {
   "cell_type": "code",
   "execution_count": null,
   "metadata": {},
   "outputs": [],
   "source": [
    "df = pd.DataFrame(boston_data.data, columns=boston_data.feature_names)"
   ]
  },
  {
   "cell_type": "code",
   "execution_count": 107,
   "metadata": {},
   "outputs": [
    {
     "data": {
      "text/html": [
       "<div>\n",
       "<style scoped>\n",
       "    .dataframe tbody tr th:only-of-type {\n",
       "        vertical-align: middle;\n",
       "    }\n",
       "\n",
       "    .dataframe tbody tr th {\n",
       "        vertical-align: top;\n",
       "    }\n",
       "\n",
       "    .dataframe thead th {\n",
       "        text-align: right;\n",
       "    }\n",
       "</style>\n",
       "<table border=\"1\" class=\"dataframe\">\n",
       "  <thead>\n",
       "    <tr style=\"text-align: right;\">\n",
       "      <th></th>\n",
       "      <th>CRIM</th>\n",
       "      <th>ZN</th>\n",
       "      <th>INDUS</th>\n",
       "      <th>CHAS</th>\n",
       "      <th>NOX</th>\n",
       "      <th>RM</th>\n",
       "      <th>AGE</th>\n",
       "      <th>DIS</th>\n",
       "      <th>RAD</th>\n",
       "      <th>TAX</th>\n",
       "      <th>PTRATIO</th>\n",
       "      <th>B</th>\n",
       "      <th>LSTAT</th>\n",
       "    </tr>\n",
       "  </thead>\n",
       "  <tbody>\n",
       "    <tr>\n",
       "      <th>0</th>\n",
       "      <td>0.0063</td>\n",
       "      <td>18.0000</td>\n",
       "      <td>2.3100</td>\n",
       "      <td>0.0000</td>\n",
       "      <td>0.5380</td>\n",
       "      <td>6.5750</td>\n",
       "      <td>65.2000</td>\n",
       "      <td>4.0900</td>\n",
       "      <td>1.0000</td>\n",
       "      <td>296.0000</td>\n",
       "      <td>15.3000</td>\n",
       "      <td>396.9000</td>\n",
       "      <td>4.9800</td>\n",
       "    </tr>\n",
       "    <tr>\n",
       "      <th>1</th>\n",
       "      <td>0.0273</td>\n",
       "      <td>0.0000</td>\n",
       "      <td>7.0700</td>\n",
       "      <td>0.0000</td>\n",
       "      <td>0.4690</td>\n",
       "      <td>6.4210</td>\n",
       "      <td>78.9000</td>\n",
       "      <td>4.9671</td>\n",
       "      <td>2.0000</td>\n",
       "      <td>242.0000</td>\n",
       "      <td>17.8000</td>\n",
       "      <td>396.9000</td>\n",
       "      <td>9.1400</td>\n",
       "    </tr>\n",
       "    <tr>\n",
       "      <th>2</th>\n",
       "      <td>0.0273</td>\n",
       "      <td>0.0000</td>\n",
       "      <td>7.0700</td>\n",
       "      <td>0.0000</td>\n",
       "      <td>0.4690</td>\n",
       "      <td>7.1850</td>\n",
       "      <td>61.1000</td>\n",
       "      <td>4.9671</td>\n",
       "      <td>2.0000</td>\n",
       "      <td>242.0000</td>\n",
       "      <td>17.8000</td>\n",
       "      <td>392.8300</td>\n",
       "      <td>4.0300</td>\n",
       "    </tr>\n",
       "    <tr>\n",
       "      <th>3</th>\n",
       "      <td>0.0324</td>\n",
       "      <td>0.0000</td>\n",
       "      <td>2.1800</td>\n",
       "      <td>0.0000</td>\n",
       "      <td>0.4580</td>\n",
       "      <td>6.9980</td>\n",
       "      <td>45.8000</td>\n",
       "      <td>6.0622</td>\n",
       "      <td>3.0000</td>\n",
       "      <td>222.0000</td>\n",
       "      <td>18.7000</td>\n",
       "      <td>394.6300</td>\n",
       "      <td>2.9400</td>\n",
       "    </tr>\n",
       "    <tr>\n",
       "      <th>4</th>\n",
       "      <td>0.0691</td>\n",
       "      <td>0.0000</td>\n",
       "      <td>2.1800</td>\n",
       "      <td>0.0000</td>\n",
       "      <td>0.4580</td>\n",
       "      <td>7.1470</td>\n",
       "      <td>54.2000</td>\n",
       "      <td>6.0622</td>\n",
       "      <td>3.0000</td>\n",
       "      <td>222.0000</td>\n",
       "      <td>18.7000</td>\n",
       "      <td>396.9000</td>\n",
       "      <td>5.3300</td>\n",
       "    </tr>\n",
       "  </tbody>\n",
       "</table>\n",
       "</div>"
      ],
      "text/plain": [
       "    CRIM      ZN  INDUS   CHAS    NOX     RM     AGE    DIS    RAD      TAX  \\\n",
       "0 0.0063 18.0000 2.3100 0.0000 0.5380 6.5750 65.2000 4.0900 1.0000 296.0000   \n",
       "1 0.0273  0.0000 7.0700 0.0000 0.4690 6.4210 78.9000 4.9671 2.0000 242.0000   \n",
       "2 0.0273  0.0000 7.0700 0.0000 0.4690 7.1850 61.1000 4.9671 2.0000 242.0000   \n",
       "3 0.0324  0.0000 2.1800 0.0000 0.4580 6.9980 45.8000 6.0622 3.0000 222.0000   \n",
       "4 0.0691  0.0000 2.1800 0.0000 0.4580 7.1470 54.2000 6.0622 3.0000 222.0000   \n",
       "\n",
       "   PTRATIO        B  LSTAT  \n",
       "0  15.3000 396.9000 4.9800  \n",
       "1  17.8000 396.9000 9.1400  \n",
       "2  17.8000 392.8300 4.0300  \n",
       "3  18.7000 394.6300 2.9400  \n",
       "4  18.7000 396.9000 5.3300  "
      ]
     },
     "execution_count": 107,
     "metadata": {},
     "output_type": "execute_result"
    }
   ],
   "source": [
    "df.head()"
   ]
  },
  {
   "cell_type": "code",
   "execution_count": null,
   "metadata": {},
   "outputs": [],
   "source": [
    "df.shape"
   ]
  },
  {
   "cell_type": "code",
   "execution_count": 106,
   "metadata": {},
   "outputs": [],
   "source": [
    "X = df"
   ]
  },
  {
   "cell_type": "code",
   "execution_count": 105,
   "metadata": {},
   "outputs": [],
   "source": [
    "y = boston_data.target"
   ]
  },
  {
   "cell_type": "code",
   "execution_count": 104,
   "metadata": {},
   "outputs": [
    {
     "data": {
      "text/plain": [
       "array([1., 1., 1., 1., 1., 1., 1., 1., 1., 1.])"
      ]
     },
     "execution_count": 104,
     "metadata": {},
     "output_type": "execute_result"
    }
   ],
   "source": [
    "y"
   ]
  },
  {
   "cell_type": "markdown",
   "metadata": {},
   "source": [
    "# Statsmodels"
   ]
  },
  {
   "cell_type": "code",
   "execution_count": null,
   "metadata": {},
   "outputs": [],
   "source": [
    "import statsmodels.api as sm\n",
    "import statsmodels.formula.api as smf"
   ]
  },
  {
   "cell_type": "code",
   "execution_count": null,
   "metadata": {},
   "outputs": [],
   "source": [
    "X_constant = sm.add_constant(X)"
   ]
  },
  {
   "cell_type": "code",
   "execution_count": null,
   "metadata": {
    "scrolled": true
   },
   "outputs": [],
   "source": [
    "pd.DataFrame(X_constant)"
   ]
  },
  {
   "cell_type": "code",
   "execution_count": null,
   "metadata": {},
   "outputs": [],
   "source": [
    "sm.OLS?"
   ]
  },
  {
   "cell_type": "code",
   "execution_count": null,
   "metadata": {},
   "outputs": [],
   "source": [
    "model = sm.OLS(y, X_constant)"
   ]
  },
  {
   "cell_type": "code",
   "execution_count": null,
   "metadata": {},
   "outputs": [],
   "source": [
    "lr = model.fit()"
   ]
  },
  {
   "cell_type": "code",
   "execution_count": null,
   "metadata": {},
   "outputs": [],
   "source": [
    "lr.summary()"
   ]
  },
  {
   "cell_type": "markdown",
   "metadata": {},
   "source": [
    "# Statsmodels Formula"
   ]
  },
  {
   "cell_type": "code",
   "execution_count": null,
   "metadata": {},
   "outputs": [],
   "source": [
    "form_lr = smf.ols(formula = 'y ~ CRIM + ZN + INDUS + CHAS + NOX + RM + AGE + DIS + RAD + TAX + PTRATIO + B + LSTAT', \n",
    "              data=df)\n",
    "mlr = form_lr.fit()"
   ]
  },
  {
   "cell_type": "code",
   "execution_count": 101,
   "metadata": {},
   "outputs": [
    {
     "data": {
      "text/html": [
       "<table class=\"simpletable\">\n",
       "<caption>OLS Regression Results</caption>\n",
       "<tr>\n",
       "  <th>Dep. Variable:</th>            <td>y</td>        <th>  R-squared:         </th> <td>   0.587</td>\n",
       "</tr>\n",
       "<tr>\n",
       "  <th>Model:</th>                   <td>OLS</td>       <th>  Adj. R-squared:    </th> <td>   0.582</td>\n",
       "</tr>\n",
       "<tr>\n",
       "  <th>Method:</th>             <td>Least Squares</td>  <th>  F-statistic:       </th> <td>   118.4</td>\n",
       "</tr>\n",
       "<tr>\n",
       "  <th>Date:</th>             <td>Mon, 20 May 2019</td> <th>  Prob (F-statistic):</th> <td>1.32e-92</td>\n",
       "</tr>\n",
       "<tr>\n",
       "  <th>Time:</th>                 <td>17:13:49</td>     <th>  Log-Likelihood:    </th> <td> -1616.3</td>\n",
       "</tr>\n",
       "<tr>\n",
       "  <th>No. Observations:</th>      <td>   506</td>      <th>  AIC:               </th> <td>   3247.</td>\n",
       "</tr>\n",
       "<tr>\n",
       "  <th>Df Residuals:</th>          <td>   499</td>      <th>  BIC:               </th> <td>   3276.</td>\n",
       "</tr>\n",
       "<tr>\n",
       "  <th>Df Model:</th>              <td>     6</td>      <th>                     </th>     <td> </td>   \n",
       "</tr>\n",
       "<tr>\n",
       "  <th>Covariance Type:</th>      <td>nonrobust</td>    <th>                     </th>     <td> </td>   \n",
       "</tr>\n",
       "</table>\n",
       "<table class=\"simpletable\">\n",
       "<tr>\n",
       "      <td></td>         <th>coef</th>     <th>std err</th>      <th>t</th>      <th>P>|t|</th>  <th>[0.025</th>    <th>0.975]</th>  \n",
       "</tr>\n",
       "<tr>\n",
       "  <th>Intercept</th> <td>  -17.9546</td> <td>    3.214</td> <td>   -5.587</td> <td> 0.000</td> <td>  -24.269</td> <td>  -11.640</td>\n",
       "</tr>\n",
       "<tr>\n",
       "  <th>CRIM</th>      <td>   -0.1769</td> <td>    0.035</td> <td>   -5.114</td> <td> 0.000</td> <td>   -0.245</td> <td>   -0.109</td>\n",
       "</tr>\n",
       "<tr>\n",
       "  <th>ZN</th>        <td>    0.0213</td> <td>    0.014</td> <td>    1.537</td> <td> 0.125</td> <td>   -0.006</td> <td>    0.048</td>\n",
       "</tr>\n",
       "<tr>\n",
       "  <th>INDUS</th>     <td>   -0.1437</td> <td>    0.064</td> <td>   -2.247</td> <td> 0.025</td> <td>   -0.269</td> <td>   -0.018</td>\n",
       "</tr>\n",
       "<tr>\n",
       "  <th>CHAS</th>      <td>    4.7847</td> <td>    1.059</td> <td>    4.518</td> <td> 0.000</td> <td>    2.704</td> <td>    6.866</td>\n",
       "</tr>\n",
       "<tr>\n",
       "  <th>NOX</th>       <td>   -7.1849</td> <td>    3.694</td> <td>   -1.945</td> <td> 0.052</td> <td>  -14.442</td> <td>    0.072</td>\n",
       "</tr>\n",
       "<tr>\n",
       "  <th>RM</th>        <td>    7.3416</td> <td>    0.417</td> <td>   17.597</td> <td> 0.000</td> <td>    6.522</td> <td>    8.161</td>\n",
       "</tr>\n",
       "</table>\n",
       "<table class=\"simpletable\">\n",
       "<tr>\n",
       "  <th>Omnibus:</th>       <td>218.887</td> <th>  Durbin-Watson:     </th> <td>   0.850</td>\n",
       "</tr>\n",
       "<tr>\n",
       "  <th>Prob(Omnibus):</th> <td> 0.000</td>  <th>  Jarque-Bera (JB):  </th> <td>1532.877</td>\n",
       "</tr>\n",
       "<tr>\n",
       "  <th>Skew:</th>          <td> 1.738</td>  <th>  Prob(JB):          </th> <td>    0.00</td>\n",
       "</tr>\n",
       "<tr>\n",
       "  <th>Kurtosis:</th>      <td>10.786</td>  <th>  Cond. No.          </th> <td>    420.</td>\n",
       "</tr>\n",
       "</table><br/><br/>Warnings:<br/>[1] Standard Errors assume that the covariance matrix of the errors is correctly specified."
      ],
      "text/plain": [
       "<class 'statsmodels.iolib.summary.Summary'>\n",
       "\"\"\"\n",
       "                            OLS Regression Results                            \n",
       "==============================================================================\n",
       "Dep. Variable:                      y   R-squared:                       0.587\n",
       "Model:                            OLS   Adj. R-squared:                  0.582\n",
       "Method:                 Least Squares   F-statistic:                     118.4\n",
       "Date:                Mon, 20 May 2019   Prob (F-statistic):           1.32e-92\n",
       "Time:                        17:13:49   Log-Likelihood:                -1616.3\n",
       "No. Observations:                 506   AIC:                             3247.\n",
       "Df Residuals:                     499   BIC:                             3276.\n",
       "Df Model:                           6                                         \n",
       "Covariance Type:            nonrobust                                         \n",
       "==============================================================================\n",
       "                 coef    std err          t      P>|t|      [0.025      0.975]\n",
       "------------------------------------------------------------------------------\n",
       "Intercept    -17.9546      3.214     -5.587      0.000     -24.269     -11.640\n",
       "CRIM          -0.1769      0.035     -5.114      0.000      -0.245      -0.109\n",
       "ZN             0.0213      0.014      1.537      0.125      -0.006       0.048\n",
       "INDUS         -0.1437      0.064     -2.247      0.025      -0.269      -0.018\n",
       "CHAS           4.7847      1.059      4.518      0.000       2.704       6.866\n",
       "NOX           -7.1849      3.694     -1.945      0.052     -14.442       0.072\n",
       "RM             7.3416      0.417     17.597      0.000       6.522       8.161\n",
       "==============================================================================\n",
       "Omnibus:                      218.887   Durbin-Watson:                   0.850\n",
       "Prob(Omnibus):                  0.000   Jarque-Bera (JB):             1532.877\n",
       "Skew:                           1.738   Prob(JB):                         0.00\n",
       "Kurtosis:                      10.786   Cond. No.                         420.\n",
       "==============================================================================\n",
       "\n",
       "Warnings:\n",
       "[1] Standard Errors assume that the covariance matrix of the errors is correctly specified.\n",
       "\"\"\""
      ]
     },
     "execution_count": 101,
     "metadata": {},
     "output_type": "execute_result"
    }
   ],
   "source": [
    "mlr.summary()"
   ]
  },
  {
   "cell_type": "markdown",
   "metadata": {},
   "source": [
    "# Example: "
   ]
  },
  {
   "cell_type": "code",
   "execution_count": null,
   "metadata": {},
   "outputs": [],
   "source": [
    "form_lr = smf.ols(formula = 'y ~ CRIM + ZN + INDUS + CHAS + NOX + RM', \n",
    "              data=df)\n",
    "mlr = form_lr.fit()\n",
    "mlr.summary()"
   ]
  },
  {
   "cell_type": "markdown",
   "metadata": {},
   "source": [
    "# Correlation Matrix to identify collinearity between predictors"
   ]
  },
  {
   "cell_type": "code",
   "execution_count": 99,
   "metadata": {},
   "outputs": [
    {
     "data": {
      "text/html": [
       "<div>\n",
       "<style scoped>\n",
       "    .dataframe tbody tr th:only-of-type {\n",
       "        vertical-align: middle;\n",
       "    }\n",
       "\n",
       "    .dataframe tbody tr th {\n",
       "        vertical-align: top;\n",
       "    }\n",
       "\n",
       "    .dataframe thead th {\n",
       "        text-align: right;\n",
       "    }\n",
       "</style>\n",
       "<table border=\"1\" class=\"dataframe\">\n",
       "  <thead>\n",
       "    <tr style=\"text-align: right;\">\n",
       "      <th></th>\n",
       "      <th>CRIM</th>\n",
       "      <th>ZN</th>\n",
       "      <th>INDUS</th>\n",
       "      <th>CHAS</th>\n",
       "      <th>NOX</th>\n",
       "      <th>RM</th>\n",
       "      <th>AGE</th>\n",
       "      <th>DIS</th>\n",
       "      <th>RAD</th>\n",
       "      <th>TAX</th>\n",
       "      <th>PTRATIO</th>\n",
       "      <th>B</th>\n",
       "      <th>LSTAT</th>\n",
       "    </tr>\n",
       "  </thead>\n",
       "  <tbody>\n",
       "    <tr>\n",
       "      <th>CRIM</th>\n",
       "      <td>1.0000</td>\n",
       "      <td>-0.2005</td>\n",
       "      <td>0.4066</td>\n",
       "      <td>-0.0559</td>\n",
       "      <td>0.4210</td>\n",
       "      <td>-0.2192</td>\n",
       "      <td>0.3527</td>\n",
       "      <td>-0.3797</td>\n",
       "      <td>0.6255</td>\n",
       "      <td>0.5828</td>\n",
       "      <td>0.2899</td>\n",
       "      <td>-0.3851</td>\n",
       "      <td>0.4556</td>\n",
       "    </tr>\n",
       "    <tr>\n",
       "      <th>ZN</th>\n",
       "      <td>-0.2005</td>\n",
       "      <td>1.0000</td>\n",
       "      <td>-0.5338</td>\n",
       "      <td>-0.0427</td>\n",
       "      <td>-0.5166</td>\n",
       "      <td>0.3120</td>\n",
       "      <td>-0.5695</td>\n",
       "      <td>0.6644</td>\n",
       "      <td>-0.3119</td>\n",
       "      <td>-0.3146</td>\n",
       "      <td>-0.3917</td>\n",
       "      <td>0.1755</td>\n",
       "      <td>-0.4130</td>\n",
       "    </tr>\n",
       "    <tr>\n",
       "      <th>INDUS</th>\n",
       "      <td>0.4066</td>\n",
       "      <td>-0.5338</td>\n",
       "      <td>1.0000</td>\n",
       "      <td>0.0629</td>\n",
       "      <td>0.7637</td>\n",
       "      <td>-0.3917</td>\n",
       "      <td>0.6448</td>\n",
       "      <td>-0.7080</td>\n",
       "      <td>0.5951</td>\n",
       "      <td>0.7208</td>\n",
       "      <td>0.3832</td>\n",
       "      <td>-0.3570</td>\n",
       "      <td>0.6038</td>\n",
       "    </tr>\n",
       "    <tr>\n",
       "      <th>CHAS</th>\n",
       "      <td>-0.0559</td>\n",
       "      <td>-0.0427</td>\n",
       "      <td>0.0629</td>\n",
       "      <td>1.0000</td>\n",
       "      <td>0.0912</td>\n",
       "      <td>0.0913</td>\n",
       "      <td>0.0865</td>\n",
       "      <td>-0.0992</td>\n",
       "      <td>-0.0074</td>\n",
       "      <td>-0.0356</td>\n",
       "      <td>-0.1215</td>\n",
       "      <td>0.0488</td>\n",
       "      <td>-0.0539</td>\n",
       "    </tr>\n",
       "    <tr>\n",
       "      <th>NOX</th>\n",
       "      <td>0.4210</td>\n",
       "      <td>-0.5166</td>\n",
       "      <td>0.7637</td>\n",
       "      <td>0.0912</td>\n",
       "      <td>1.0000</td>\n",
       "      <td>-0.3022</td>\n",
       "      <td>0.7315</td>\n",
       "      <td>-0.7692</td>\n",
       "      <td>0.6114</td>\n",
       "      <td>0.6680</td>\n",
       "      <td>0.1889</td>\n",
       "      <td>-0.3801</td>\n",
       "      <td>0.5909</td>\n",
       "    </tr>\n",
       "    <tr>\n",
       "      <th>RM</th>\n",
       "      <td>-0.2192</td>\n",
       "      <td>0.3120</td>\n",
       "      <td>-0.3917</td>\n",
       "      <td>0.0913</td>\n",
       "      <td>-0.3022</td>\n",
       "      <td>1.0000</td>\n",
       "      <td>-0.2403</td>\n",
       "      <td>0.2052</td>\n",
       "      <td>-0.2098</td>\n",
       "      <td>-0.2920</td>\n",
       "      <td>-0.3555</td>\n",
       "      <td>0.1281</td>\n",
       "      <td>-0.6138</td>\n",
       "    </tr>\n",
       "    <tr>\n",
       "      <th>AGE</th>\n",
       "      <td>0.3527</td>\n",
       "      <td>-0.5695</td>\n",
       "      <td>0.6448</td>\n",
       "      <td>0.0865</td>\n",
       "      <td>0.7315</td>\n",
       "      <td>-0.2403</td>\n",
       "      <td>1.0000</td>\n",
       "      <td>-0.7479</td>\n",
       "      <td>0.4560</td>\n",
       "      <td>0.5065</td>\n",
       "      <td>0.2615</td>\n",
       "      <td>-0.2735</td>\n",
       "      <td>0.6023</td>\n",
       "    </tr>\n",
       "    <tr>\n",
       "      <th>DIS</th>\n",
       "      <td>-0.3797</td>\n",
       "      <td>0.6644</td>\n",
       "      <td>-0.7080</td>\n",
       "      <td>-0.0992</td>\n",
       "      <td>-0.7692</td>\n",
       "      <td>0.2052</td>\n",
       "      <td>-0.7479</td>\n",
       "      <td>1.0000</td>\n",
       "      <td>-0.4946</td>\n",
       "      <td>-0.5344</td>\n",
       "      <td>-0.2325</td>\n",
       "      <td>0.2915</td>\n",
       "      <td>-0.4970</td>\n",
       "    </tr>\n",
       "    <tr>\n",
       "      <th>RAD</th>\n",
       "      <td>0.6255</td>\n",
       "      <td>-0.3119</td>\n",
       "      <td>0.5951</td>\n",
       "      <td>-0.0074</td>\n",
       "      <td>0.6114</td>\n",
       "      <td>-0.2098</td>\n",
       "      <td>0.4560</td>\n",
       "      <td>-0.4946</td>\n",
       "      <td>1.0000</td>\n",
       "      <td>0.9102</td>\n",
       "      <td>0.4647</td>\n",
       "      <td>-0.4444</td>\n",
       "      <td>0.4887</td>\n",
       "    </tr>\n",
       "    <tr>\n",
       "      <th>TAX</th>\n",
       "      <td>0.5828</td>\n",
       "      <td>-0.3146</td>\n",
       "      <td>0.7208</td>\n",
       "      <td>-0.0356</td>\n",
       "      <td>0.6680</td>\n",
       "      <td>-0.2920</td>\n",
       "      <td>0.5065</td>\n",
       "      <td>-0.5344</td>\n",
       "      <td>0.9102</td>\n",
       "      <td>1.0000</td>\n",
       "      <td>0.4609</td>\n",
       "      <td>-0.4418</td>\n",
       "      <td>0.5440</td>\n",
       "    </tr>\n",
       "    <tr>\n",
       "      <th>PTRATIO</th>\n",
       "      <td>0.2899</td>\n",
       "      <td>-0.3917</td>\n",
       "      <td>0.3832</td>\n",
       "      <td>-0.1215</td>\n",
       "      <td>0.1889</td>\n",
       "      <td>-0.3555</td>\n",
       "      <td>0.2615</td>\n",
       "      <td>-0.2325</td>\n",
       "      <td>0.4647</td>\n",
       "      <td>0.4609</td>\n",
       "      <td>1.0000</td>\n",
       "      <td>-0.1774</td>\n",
       "      <td>0.3740</td>\n",
       "    </tr>\n",
       "    <tr>\n",
       "      <th>B</th>\n",
       "      <td>-0.3851</td>\n",
       "      <td>0.1755</td>\n",
       "      <td>-0.3570</td>\n",
       "      <td>0.0488</td>\n",
       "      <td>-0.3801</td>\n",
       "      <td>0.1281</td>\n",
       "      <td>-0.2735</td>\n",
       "      <td>0.2915</td>\n",
       "      <td>-0.4444</td>\n",
       "      <td>-0.4418</td>\n",
       "      <td>-0.1774</td>\n",
       "      <td>1.0000</td>\n",
       "      <td>-0.3661</td>\n",
       "    </tr>\n",
       "    <tr>\n",
       "      <th>LSTAT</th>\n",
       "      <td>0.4556</td>\n",
       "      <td>-0.4130</td>\n",
       "      <td>0.6038</td>\n",
       "      <td>-0.0539</td>\n",
       "      <td>0.5909</td>\n",
       "      <td>-0.6138</td>\n",
       "      <td>0.6023</td>\n",
       "      <td>-0.4970</td>\n",
       "      <td>0.4887</td>\n",
       "      <td>0.5440</td>\n",
       "      <td>0.3740</td>\n",
       "      <td>-0.3661</td>\n",
       "      <td>1.0000</td>\n",
       "    </tr>\n",
       "  </tbody>\n",
       "</table>\n",
       "</div>"
      ],
      "text/plain": [
       "           CRIM      ZN   INDUS    CHAS     NOX      RM     AGE     DIS  \\\n",
       "CRIM     1.0000 -0.2005  0.4066 -0.0559  0.4210 -0.2192  0.3527 -0.3797   \n",
       "ZN      -0.2005  1.0000 -0.5338 -0.0427 -0.5166  0.3120 -0.5695  0.6644   \n",
       "INDUS    0.4066 -0.5338  1.0000  0.0629  0.7637 -0.3917  0.6448 -0.7080   \n",
       "CHAS    -0.0559 -0.0427  0.0629  1.0000  0.0912  0.0913  0.0865 -0.0992   \n",
       "NOX      0.4210 -0.5166  0.7637  0.0912  1.0000 -0.3022  0.7315 -0.7692   \n",
       "RM      -0.2192  0.3120 -0.3917  0.0913 -0.3022  1.0000 -0.2403  0.2052   \n",
       "AGE      0.3527 -0.5695  0.6448  0.0865  0.7315 -0.2403  1.0000 -0.7479   \n",
       "DIS     -0.3797  0.6644 -0.7080 -0.0992 -0.7692  0.2052 -0.7479  1.0000   \n",
       "RAD      0.6255 -0.3119  0.5951 -0.0074  0.6114 -0.2098  0.4560 -0.4946   \n",
       "TAX      0.5828 -0.3146  0.7208 -0.0356  0.6680 -0.2920  0.5065 -0.5344   \n",
       "PTRATIO  0.2899 -0.3917  0.3832 -0.1215  0.1889 -0.3555  0.2615 -0.2325   \n",
       "B       -0.3851  0.1755 -0.3570  0.0488 -0.3801  0.1281 -0.2735  0.2915   \n",
       "LSTAT    0.4556 -0.4130  0.6038 -0.0539  0.5909 -0.6138  0.6023 -0.4970   \n",
       "\n",
       "            RAD     TAX  PTRATIO       B   LSTAT  \n",
       "CRIM     0.6255  0.5828   0.2899 -0.3851  0.4556  \n",
       "ZN      -0.3119 -0.3146  -0.3917  0.1755 -0.4130  \n",
       "INDUS    0.5951  0.7208   0.3832 -0.3570  0.6038  \n",
       "CHAS    -0.0074 -0.0356  -0.1215  0.0488 -0.0539  \n",
       "NOX      0.6114  0.6680   0.1889 -0.3801  0.5909  \n",
       "RM      -0.2098 -0.2920  -0.3555  0.1281 -0.6138  \n",
       "AGE      0.4560  0.5065   0.2615 -0.2735  0.6023  \n",
       "DIS     -0.4946 -0.5344  -0.2325  0.2915 -0.4970  \n",
       "RAD      1.0000  0.9102   0.4647 -0.4444  0.4887  \n",
       "TAX      0.9102  1.0000   0.4609 -0.4418  0.5440  \n",
       "PTRATIO  0.4647  0.4609   1.0000 -0.1774  0.3740  \n",
       "B       -0.4444 -0.4418  -0.1774  1.0000 -0.3661  \n",
       "LSTAT    0.4887  0.5440   0.3740 -0.3661  1.0000  "
      ]
     },
     "execution_count": 99,
     "metadata": {},
     "output_type": "execute_result"
    }
   ],
   "source": [
    "pd.options.display.float_format = '{:,.4f}'.format\n",
    "corr_matrix = df.corr()\n",
    "corr_matrix"
   ]
  },
  {
   "cell_type": "code",
   "execution_count": 98,
   "metadata": {},
   "outputs": [
    {
     "data": {
      "text/html": [
       "<div>\n",
       "<style scoped>\n",
       "    .dataframe tbody tr th:only-of-type {\n",
       "        vertical-align: middle;\n",
       "    }\n",
       "\n",
       "    .dataframe tbody tr th {\n",
       "        vertical-align: top;\n",
       "    }\n",
       "\n",
       "    .dataframe thead th {\n",
       "        text-align: right;\n",
       "    }\n",
       "</style>\n",
       "<table border=\"1\" class=\"dataframe\">\n",
       "  <thead>\n",
       "    <tr style=\"text-align: right;\">\n",
       "      <th></th>\n",
       "      <th>CRIM</th>\n",
       "      <th>ZN</th>\n",
       "      <th>INDUS</th>\n",
       "      <th>CHAS</th>\n",
       "      <th>NOX</th>\n",
       "      <th>RM</th>\n",
       "      <th>AGE</th>\n",
       "      <th>DIS</th>\n",
       "      <th>RAD</th>\n",
       "      <th>TAX</th>\n",
       "      <th>PTRATIO</th>\n",
       "      <th>B</th>\n",
       "      <th>LSTAT</th>\n",
       "    </tr>\n",
       "  </thead>\n",
       "  <tbody>\n",
       "    <tr>\n",
       "      <th>CRIM</th>\n",
       "      <td>1.0000</td>\n",
       "      <td>0.0000</td>\n",
       "      <td>0.0000</td>\n",
       "      <td>0.0000</td>\n",
       "      <td>0.0000</td>\n",
       "      <td>0.0000</td>\n",
       "      <td>0.0000</td>\n",
       "      <td>0.0000</td>\n",
       "      <td>0.6255</td>\n",
       "      <td>0.0000</td>\n",
       "      <td>0.0000</td>\n",
       "      <td>0.0000</td>\n",
       "      <td>0.0000</td>\n",
       "    </tr>\n",
       "    <tr>\n",
       "      <th>ZN</th>\n",
       "      <td>0.0000</td>\n",
       "      <td>1.0000</td>\n",
       "      <td>0.0000</td>\n",
       "      <td>0.0000</td>\n",
       "      <td>0.0000</td>\n",
       "      <td>0.0000</td>\n",
       "      <td>0.0000</td>\n",
       "      <td>0.6644</td>\n",
       "      <td>0.0000</td>\n",
       "      <td>0.0000</td>\n",
       "      <td>0.0000</td>\n",
       "      <td>0.0000</td>\n",
       "      <td>0.0000</td>\n",
       "    </tr>\n",
       "    <tr>\n",
       "      <th>INDUS</th>\n",
       "      <td>0.0000</td>\n",
       "      <td>0.0000</td>\n",
       "      <td>1.0000</td>\n",
       "      <td>0.0000</td>\n",
       "      <td>0.7637</td>\n",
       "      <td>0.0000</td>\n",
       "      <td>0.6448</td>\n",
       "      <td>-0.7080</td>\n",
       "      <td>0.0000</td>\n",
       "      <td>0.7208</td>\n",
       "      <td>0.0000</td>\n",
       "      <td>0.0000</td>\n",
       "      <td>0.6038</td>\n",
       "    </tr>\n",
       "    <tr>\n",
       "      <th>CHAS</th>\n",
       "      <td>0.0000</td>\n",
       "      <td>0.0000</td>\n",
       "      <td>0.0000</td>\n",
       "      <td>1.0000</td>\n",
       "      <td>0.0000</td>\n",
       "      <td>0.0000</td>\n",
       "      <td>0.0000</td>\n",
       "      <td>0.0000</td>\n",
       "      <td>0.0000</td>\n",
       "      <td>0.0000</td>\n",
       "      <td>0.0000</td>\n",
       "      <td>0.0000</td>\n",
       "      <td>0.0000</td>\n",
       "    </tr>\n",
       "    <tr>\n",
       "      <th>NOX</th>\n",
       "      <td>0.0000</td>\n",
       "      <td>0.0000</td>\n",
       "      <td>0.7637</td>\n",
       "      <td>0.0000</td>\n",
       "      <td>1.0000</td>\n",
       "      <td>0.0000</td>\n",
       "      <td>0.7315</td>\n",
       "      <td>-0.7692</td>\n",
       "      <td>0.6114</td>\n",
       "      <td>0.6680</td>\n",
       "      <td>0.0000</td>\n",
       "      <td>0.0000</td>\n",
       "      <td>0.0000</td>\n",
       "    </tr>\n",
       "    <tr>\n",
       "      <th>RM</th>\n",
       "      <td>0.0000</td>\n",
       "      <td>0.0000</td>\n",
       "      <td>0.0000</td>\n",
       "      <td>0.0000</td>\n",
       "      <td>0.0000</td>\n",
       "      <td>1.0000</td>\n",
       "      <td>0.0000</td>\n",
       "      <td>0.0000</td>\n",
       "      <td>0.0000</td>\n",
       "      <td>0.0000</td>\n",
       "      <td>0.0000</td>\n",
       "      <td>0.0000</td>\n",
       "      <td>-0.6138</td>\n",
       "    </tr>\n",
       "    <tr>\n",
       "      <th>AGE</th>\n",
       "      <td>0.0000</td>\n",
       "      <td>0.0000</td>\n",
       "      <td>0.6448</td>\n",
       "      <td>0.0000</td>\n",
       "      <td>0.7315</td>\n",
       "      <td>0.0000</td>\n",
       "      <td>1.0000</td>\n",
       "      <td>-0.7479</td>\n",
       "      <td>0.0000</td>\n",
       "      <td>0.0000</td>\n",
       "      <td>0.0000</td>\n",
       "      <td>0.0000</td>\n",
       "      <td>0.6023</td>\n",
       "    </tr>\n",
       "    <tr>\n",
       "      <th>DIS</th>\n",
       "      <td>0.0000</td>\n",
       "      <td>0.6644</td>\n",
       "      <td>-0.7080</td>\n",
       "      <td>0.0000</td>\n",
       "      <td>-0.7692</td>\n",
       "      <td>0.0000</td>\n",
       "      <td>-0.7479</td>\n",
       "      <td>1.0000</td>\n",
       "      <td>0.0000</td>\n",
       "      <td>0.0000</td>\n",
       "      <td>0.0000</td>\n",
       "      <td>0.0000</td>\n",
       "      <td>0.0000</td>\n",
       "    </tr>\n",
       "    <tr>\n",
       "      <th>RAD</th>\n",
       "      <td>0.6255</td>\n",
       "      <td>0.0000</td>\n",
       "      <td>0.0000</td>\n",
       "      <td>0.0000</td>\n",
       "      <td>0.6114</td>\n",
       "      <td>0.0000</td>\n",
       "      <td>0.0000</td>\n",
       "      <td>0.0000</td>\n",
       "      <td>1.0000</td>\n",
       "      <td>0.9102</td>\n",
       "      <td>0.0000</td>\n",
       "      <td>0.0000</td>\n",
       "      <td>0.0000</td>\n",
       "    </tr>\n",
       "    <tr>\n",
       "      <th>TAX</th>\n",
       "      <td>0.0000</td>\n",
       "      <td>0.0000</td>\n",
       "      <td>0.7208</td>\n",
       "      <td>0.0000</td>\n",
       "      <td>0.6680</td>\n",
       "      <td>0.0000</td>\n",
       "      <td>0.0000</td>\n",
       "      <td>0.0000</td>\n",
       "      <td>0.9102</td>\n",
       "      <td>1.0000</td>\n",
       "      <td>0.0000</td>\n",
       "      <td>0.0000</td>\n",
       "      <td>0.0000</td>\n",
       "    </tr>\n",
       "    <tr>\n",
       "      <th>PTRATIO</th>\n",
       "      <td>0.0000</td>\n",
       "      <td>0.0000</td>\n",
       "      <td>0.0000</td>\n",
       "      <td>0.0000</td>\n",
       "      <td>0.0000</td>\n",
       "      <td>0.0000</td>\n",
       "      <td>0.0000</td>\n",
       "      <td>0.0000</td>\n",
       "      <td>0.0000</td>\n",
       "      <td>0.0000</td>\n",
       "      <td>1.0000</td>\n",
       "      <td>0.0000</td>\n",
       "      <td>0.0000</td>\n",
       "    </tr>\n",
       "    <tr>\n",
       "      <th>B</th>\n",
       "      <td>0.0000</td>\n",
       "      <td>0.0000</td>\n",
       "      <td>0.0000</td>\n",
       "      <td>0.0000</td>\n",
       "      <td>0.0000</td>\n",
       "      <td>0.0000</td>\n",
       "      <td>0.0000</td>\n",
       "      <td>0.0000</td>\n",
       "      <td>0.0000</td>\n",
       "      <td>0.0000</td>\n",
       "      <td>0.0000</td>\n",
       "      <td>1.0000</td>\n",
       "      <td>0.0000</td>\n",
       "    </tr>\n",
       "    <tr>\n",
       "      <th>LSTAT</th>\n",
       "      <td>0.0000</td>\n",
       "      <td>0.0000</td>\n",
       "      <td>0.6038</td>\n",
       "      <td>0.0000</td>\n",
       "      <td>0.0000</td>\n",
       "      <td>-0.6138</td>\n",
       "      <td>0.6023</td>\n",
       "      <td>0.0000</td>\n",
       "      <td>0.0000</td>\n",
       "      <td>0.0000</td>\n",
       "      <td>0.0000</td>\n",
       "      <td>0.0000</td>\n",
       "      <td>1.0000</td>\n",
       "    </tr>\n",
       "  </tbody>\n",
       "</table>\n",
       "</div>"
      ],
      "text/plain": [
       "          CRIM     ZN   INDUS   CHAS     NOX      RM     AGE     DIS    RAD  \\\n",
       "CRIM    1.0000 0.0000  0.0000 0.0000  0.0000  0.0000  0.0000  0.0000 0.6255   \n",
       "ZN      0.0000 1.0000  0.0000 0.0000  0.0000  0.0000  0.0000  0.6644 0.0000   \n",
       "INDUS   0.0000 0.0000  1.0000 0.0000  0.7637  0.0000  0.6448 -0.7080 0.0000   \n",
       "CHAS    0.0000 0.0000  0.0000 1.0000  0.0000  0.0000  0.0000  0.0000 0.0000   \n",
       "NOX     0.0000 0.0000  0.7637 0.0000  1.0000  0.0000  0.7315 -0.7692 0.6114   \n",
       "RM      0.0000 0.0000  0.0000 0.0000  0.0000  1.0000  0.0000  0.0000 0.0000   \n",
       "AGE     0.0000 0.0000  0.6448 0.0000  0.7315  0.0000  1.0000 -0.7479 0.0000   \n",
       "DIS     0.0000 0.6644 -0.7080 0.0000 -0.7692  0.0000 -0.7479  1.0000 0.0000   \n",
       "RAD     0.6255 0.0000  0.0000 0.0000  0.6114  0.0000  0.0000  0.0000 1.0000   \n",
       "TAX     0.0000 0.0000  0.7208 0.0000  0.6680  0.0000  0.0000  0.0000 0.9102   \n",
       "PTRATIO 0.0000 0.0000  0.0000 0.0000  0.0000  0.0000  0.0000  0.0000 0.0000   \n",
       "B       0.0000 0.0000  0.0000 0.0000  0.0000  0.0000  0.0000  0.0000 0.0000   \n",
       "LSTAT   0.0000 0.0000  0.6038 0.0000  0.0000 -0.6138  0.6023  0.0000 0.0000   \n",
       "\n",
       "           TAX  PTRATIO      B   LSTAT  \n",
       "CRIM    0.0000   0.0000 0.0000  0.0000  \n",
       "ZN      0.0000   0.0000 0.0000  0.0000  \n",
       "INDUS   0.7208   0.0000 0.0000  0.6038  \n",
       "CHAS    0.0000   0.0000 0.0000  0.0000  \n",
       "NOX     0.6680   0.0000 0.0000  0.0000  \n",
       "RM      0.0000   0.0000 0.0000 -0.6138  \n",
       "AGE     0.0000   0.0000 0.0000  0.6023  \n",
       "DIS     0.0000   0.0000 0.0000  0.0000  \n",
       "RAD     0.9102   0.0000 0.0000  0.0000  \n",
       "TAX     1.0000   0.0000 0.0000  0.0000  \n",
       "PTRATIO 0.0000   1.0000 0.0000  0.0000  \n",
       "B       0.0000   0.0000 1.0000  0.0000  \n",
       "LSTAT   0.0000   0.0000 0.0000  1.0000  "
      ]
     },
     "execution_count": 98,
     "metadata": {},
     "output_type": "execute_result"
    }
   ],
   "source": [
    "corr_matrix[np.abs(corr_matrix) < 0.6] = 0\n",
    "corr_matrix"
   ]
  },
  {
   "cell_type": "code",
   "execution_count": 97,
   "metadata": {},
   "outputs": [
    {
     "data": {
      "image/png": "[encoded data removed]",
      "text/plain": [
       "<Figure size 1152x720 with 2 Axes>"
      ]
     },
     "metadata": {
      "needs_background": "light"
     },
     "output_type": "display_data"
    }
   ],
   "source": [
    "plt.figure(figsize=(16,10))\n",
    "sns.heatmap(corr_matrix, annot=True, cmap='YlGnBu')\n",
    "plt.show()"
   ]
  },
  {
   "cell_type": "markdown",
   "metadata": {},
   "source": [
    "# Using Eigenvectors to Detect Collinearity "
   ]
  },
  {
   "cell_type": "code",
   "execution_count": 96,
   "metadata": {},
   "outputs": [],
   "source": [
    "eigenvalues, eigenvectors = np.linalg.eig(df.corr())"
   ]
  },
  {
   "cell_type": "code",
   "execution_count": 95,
   "metadata": {},
   "outputs": [
    {
     "data": {
      "text/plain": [
       "8    0.0635\n",
       "10   0.1693\n",
       "11   0.1860\n",
       "12   0.2202\n",
       "9    0.2769\n",
       "7    0.3961\n",
       "6    0.5354\n",
       "5    0.6574\n",
       "4    0.8348\n",
       "3    0.8576\n",
       "2    1.2426\n",
       "1    1.4333\n",
       "0    6.1268\n",
       "dtype: float64"
      ]
     },
     "execution_count": 95,
     "metadata": {},
     "output_type": "execute_result"
    }
   ],
   "source": [
    "pd.Series(eigenvalues).sort_values()"
   ]
  },
  {
   "cell_type": "code",
   "execution_count": 94,
   "metadata": {},
   "outputs": [
    {
     "data": {
      "text/plain": [
       "9    0.7202\n",
       "8    0.6335\n",
       "2    0.2511\n",
       "1    0.0809\n",
       "0    0.0460\n",
       "5    0.0456\n",
       "4    0.0436\n",
       "6    0.0386\n",
       "3    0.0359\n",
       "12   0.0244\n",
       "10   0.0234\n",
       "7    0.0183\n",
       "11   0.0045\n",
       "dtype: float64"
      ]
     },
     "execution_count": 94,
     "metadata": {},
     "output_type": "execute_result"
    }
   ],
   "source": [
    "np.abs(pd.Series(eigenvectors[:,8])).sort_values(ascending=False)"
   ]
  },
  {
   "cell_type": "code",
   "execution_count": 93,
   "metadata": {},
   "outputs": [
    {
     "name": "stdout",
     "output_type": "stream",
     "text": [
      "INDUS RAD TAX\n"
     ]
    }
   ],
   "source": [
    "print(df.columns[2], df.columns[8], df.columns[9])"
   ]
  },
  {
   "cell_type": "markdown",
   "metadata": {},
   "source": [
    "# Checking Direction of Coefficient & Impact of Variable"
   ]
  },
  {
   "cell_type": "code",
   "execution_count": 92,
   "metadata": {},
   "outputs": [
    {
     "data": {
      "text/html": [
       "<div>\n",
       "<style scoped>\n",
       "    .dataframe tbody tr th:only-of-type {\n",
       "        vertical-align: middle;\n",
       "    }\n",
       "\n",
       "    .dataframe tbody tr th {\n",
       "        vertical-align: top;\n",
       "    }\n",
       "\n",
       "    .dataframe thead th {\n",
       "        text-align: right;\n",
       "    }\n",
       "</style>\n",
       "<table border=\"1\" class=\"dataframe\">\n",
       "  <thead>\n",
       "    <tr style=\"text-align: right;\">\n",
       "      <th></th>\n",
       "      <th>CRIM</th>\n",
       "      <th>ZN</th>\n",
       "      <th>INDUS</th>\n",
       "      <th>CHAS</th>\n",
       "      <th>NOX</th>\n",
       "      <th>RM</th>\n",
       "      <th>AGE</th>\n",
       "      <th>DIS</th>\n",
       "      <th>RAD</th>\n",
       "      <th>TAX</th>\n",
       "      <th>PTRATIO</th>\n",
       "      <th>B</th>\n",
       "      <th>LSTAT</th>\n",
       "    </tr>\n",
       "  </thead>\n",
       "  <tbody>\n",
       "    <tr>\n",
       "      <th>0</th>\n",
       "      <td>0.0063</td>\n",
       "      <td>18.0000</td>\n",
       "      <td>2.3100</td>\n",
       "      <td>0.0000</td>\n",
       "      <td>0.5380</td>\n",
       "      <td>6.5750</td>\n",
       "      <td>65.2000</td>\n",
       "      <td>4.0900</td>\n",
       "      <td>1.0000</td>\n",
       "      <td>296.0000</td>\n",
       "      <td>15.3000</td>\n",
       "      <td>396.9000</td>\n",
       "      <td>4.9800</td>\n",
       "    </tr>\n",
       "    <tr>\n",
       "      <th>1</th>\n",
       "      <td>0.0273</td>\n",
       "      <td>0.0000</td>\n",
       "      <td>7.0700</td>\n",
       "      <td>0.0000</td>\n",
       "      <td>0.4690</td>\n",
       "      <td>6.4210</td>\n",
       "      <td>78.9000</td>\n",
       "      <td>4.9671</td>\n",
       "      <td>2.0000</td>\n",
       "      <td>242.0000</td>\n",
       "      <td>17.8000</td>\n",
       "      <td>396.9000</td>\n",
       "      <td>9.1400</td>\n",
       "    </tr>\n",
       "    <tr>\n",
       "      <th>2</th>\n",
       "      <td>0.0273</td>\n",
       "      <td>0.0000</td>\n",
       "      <td>7.0700</td>\n",
       "      <td>0.0000</td>\n",
       "      <td>0.4690</td>\n",
       "      <td>7.1850</td>\n",
       "      <td>61.1000</td>\n",
       "      <td>4.9671</td>\n",
       "      <td>2.0000</td>\n",
       "      <td>242.0000</td>\n",
       "      <td>17.8000</td>\n",
       "      <td>392.8300</td>\n",
       "      <td>4.0300</td>\n",
       "    </tr>\n",
       "    <tr>\n",
       "      <th>3</th>\n",
       "      <td>0.0324</td>\n",
       "      <td>0.0000</td>\n",
       "      <td>2.1800</td>\n",
       "      <td>0.0000</td>\n",
       "      <td>0.4580</td>\n",
       "      <td>6.9980</td>\n",
       "      <td>45.8000</td>\n",
       "      <td>6.0622</td>\n",
       "      <td>3.0000</td>\n",
       "      <td>222.0000</td>\n",
       "      <td>18.7000</td>\n",
       "      <td>394.6300</td>\n",
       "      <td>2.9400</td>\n",
       "    </tr>\n",
       "    <tr>\n",
       "      <th>4</th>\n",
       "      <td>0.0691</td>\n",
       "      <td>0.0000</td>\n",
       "      <td>2.1800</td>\n",
       "      <td>0.0000</td>\n",
       "      <td>0.4580</td>\n",
       "      <td>7.1470</td>\n",
       "      <td>54.2000</td>\n",
       "      <td>6.0622</td>\n",
       "      <td>3.0000</td>\n",
       "      <td>222.0000</td>\n",
       "      <td>18.7000</td>\n",
       "      <td>396.9000</td>\n",
       "      <td>5.3300</td>\n",
       "    </tr>\n",
       "  </tbody>\n",
       "</table>\n",
       "</div>"
      ],
      "text/plain": [
       "    CRIM      ZN  INDUS   CHAS    NOX     RM     AGE    DIS    RAD      TAX  \\\n",
       "0 0.0063 18.0000 2.3100 0.0000 0.5380 6.5750 65.2000 4.0900 1.0000 296.0000   \n",
       "1 0.0273  0.0000 7.0700 0.0000 0.4690 6.4210 78.9000 4.9671 2.0000 242.0000   \n",
       "2 0.0273  0.0000 7.0700 0.0000 0.4690 7.1850 61.1000 4.9671 2.0000 242.0000   \n",
       "3 0.0324  0.0000 2.1800 0.0000 0.4580 6.9980 45.8000 6.0622 3.0000 222.0000   \n",
       "4 0.0691  0.0000 2.1800 0.0000 0.4580 7.1470 54.2000 6.0622 3.0000 222.0000   \n",
       "\n",
       "   PTRATIO        B  LSTAT  \n",
       "0  15.3000 396.9000 4.9800  \n",
       "1  17.8000 396.9000 9.1400  \n",
       "2  17.8000 392.8300 4.0300  \n",
       "3  18.7000 394.6300 2.9400  \n",
       "4  18.7000 396.9000 5.3300  "
      ]
     },
     "execution_count": 92,
     "metadata": {},
     "output_type": "execute_result"
    }
   ],
   "source": [
    "df.head()"
   ]
  },
  {
   "cell_type": "code",
   "execution_count": 91,
   "metadata": {},
   "outputs": [
    {
     "data": {
      "image/png": "[encoded data removed]",
      "text/plain": [
       "<Figure size 432x288 with 1 Axes>"
      ]
     },
     "metadata": {
      "needs_background": "light"
     },
     "output_type": "display_data"
    }
   ],
   "source": [
    "plt.hist(df['TAX']);"
   ]
  },
  {
   "cell_type": "code",
   "execution_count": 90,
   "metadata": {},
   "outputs": [
    {
     "data": {
      "image/png": "[encoded data removed]",
      "text/plain": [
       "<Figure size 432x288 with 1 Axes>"
      ]
     },
     "metadata": {
      "needs_background": "light"
     },
     "output_type": "display_data"
    }
   ],
   "source": [
    "plt.hist(df['NOX']);"
   ]
  },
  {
   "cell_type": "markdown",
   "metadata": {},
   "source": [
    "# Assessing Impact on Model by Standardising the Variable"
   ]
  },
  {
   "cell_type": "code",
   "execution_count": null,
   "metadata": {},
   "outputs": [],
   "source": [
    "from sklearn.linear_model import LinearRegression"
   ]
  },
  {
   "cell_type": "code",
   "execution_count": null,
   "metadata": {},
   "outputs": [],
   "source": [
    "model = LinearRegression()"
   ]
  },
  {
   "cell_type": "code",
   "execution_count": null,
   "metadata": {},
   "outputs": [],
   "source": [
    "model.fit(X,y)"
   ]
  },
  {
   "cell_type": "code",
   "execution_count": null,
   "metadata": {},
   "outputs": [],
   "source": [
    "result = pd.DataFrame(list(zip(model.coef_, df.columns)), columns=['coefficient', 'name']).set_index('name')\n",
    "np.abs(result).sort_values(by='coefficient', ascending=False)"
   ]
  },
  {
   "cell_type": "code",
   "execution_count": 89,
   "metadata": {},
   "outputs": [],
   "source": [
    "from sklearn.preprocessing import StandardScaler  \n",
    "from sklearn.pipeline import make_pipeline  \n",
    "scaler = StandardScaler()  \n",
    "Stand_coef_linear_reg = make_pipeline(scaler, model)"
   ]
  },
  {
   "cell_type": "code",
   "execution_count": 88,
   "metadata": {},
   "outputs": [
    {
     "data": {
      "text/html": [
       "<div>\n",
       "<style scoped>\n",
       "    .dataframe tbody tr th:only-of-type {\n",
       "        vertical-align: middle;\n",
       "    }\n",
       "\n",
       "    .dataframe tbody tr th {\n",
       "        vertical-align: top;\n",
       "    }\n",
       "\n",
       "    .dataframe thead th {\n",
       "        text-align: right;\n",
       "    }\n",
       "</style>\n",
       "<table border=\"1\" class=\"dataframe\">\n",
       "  <thead>\n",
       "    <tr style=\"text-align: right;\">\n",
       "      <th></th>\n",
       "      <th>coefficient</th>\n",
       "    </tr>\n",
       "    <tr>\n",
       "      <th>name</th>\n",
       "      <th></th>\n",
       "    </tr>\n",
       "  </thead>\n",
       "  <tbody>\n",
       "    <tr>\n",
       "      <th>CRIM</th>\n",
       "      <td>0.0000</td>\n",
       "    </tr>\n",
       "    <tr>\n",
       "      <th>ZN</th>\n",
       "      <td>0.0000</td>\n",
       "    </tr>\n",
       "    <tr>\n",
       "      <th>INDUS</th>\n",
       "      <td>0.0000</td>\n",
       "    </tr>\n",
       "    <tr>\n",
       "      <th>CHAS</th>\n",
       "      <td>0.0000</td>\n",
       "    </tr>\n",
       "    <tr>\n",
       "      <th>NOX</th>\n",
       "      <td>0.0000</td>\n",
       "    </tr>\n",
       "    <tr>\n",
       "      <th>RM</th>\n",
       "      <td>0.0000</td>\n",
       "    </tr>\n",
       "    <tr>\n",
       "      <th>AGE</th>\n",
       "      <td>0.0000</td>\n",
       "    </tr>\n",
       "    <tr>\n",
       "      <th>DIS</th>\n",
       "      <td>0.0000</td>\n",
       "    </tr>\n",
       "    <tr>\n",
       "      <th>RAD</th>\n",
       "      <td>0.0000</td>\n",
       "    </tr>\n",
       "    <tr>\n",
       "      <th>TAX</th>\n",
       "      <td>0.0000</td>\n",
       "    </tr>\n",
       "  </tbody>\n",
       "</table>\n",
       "</div>"
      ],
      "text/plain": [
       "       coefficient\n",
       "name              \n",
       "CRIM        0.0000\n",
       "ZN          0.0000\n",
       "INDUS       0.0000\n",
       "CHAS        0.0000\n",
       "NOX         0.0000\n",
       "RM          0.0000\n",
       "AGE         0.0000\n",
       "DIS         0.0000\n",
       "RAD         0.0000\n",
       "TAX         0.0000"
      ]
     },
     "execution_count": 88,
     "metadata": {},
     "output_type": "execute_result"
    }
   ],
   "source": [
    "Stand_coef_linear_reg.fit(X,y)\n",
    "result = pd.DataFrame(list(zip(Stand_coef_linear_reg.steps[1][1].coef_, df.columns)), \n",
    "                      columns=['coefficient', 'name']).set_index('name')\n",
    "np.abs(result).sort_values(by='coefficient', ascending=False)"
   ]
  },
  {
   "cell_type": "markdown",
   "metadata": {},
   "source": [
    "# Identifying Key Features Using R2"
   ]
  },
  {
   "cell_type": "code",
   "execution_count": null,
   "metadata": {},
   "outputs": [],
   "source": [
    "from sklearn.metrics import r2_score"
   ]
  },
  {
   "cell_type": "code",
   "execution_count": null,
   "metadata": {},
   "outputs": [],
   "source": [
    "linear_reg = smf.ols(formula = 'y ~ CRIM + ZN + INDUS + CHAS + NOX + RM + AGE + DIS + RAD + TAX + PTRATIO + B + LSTAT', \n",
    "              data=df)\n",
    "benchmark = linear_reg.fit()\n",
    "r2_score(y, benchmark.predict(df))"
   ]
  },
  {
   "cell_type": "code",
   "execution_count": null,
   "metadata": {},
   "outputs": [],
   "source": [
    "linear_reg = smf.ols(formula = 'y ~ CRIM + ZN + INDUS + CHAS + NOX + RM + AGE + DIS + RAD + TAX + PTRATIO + B', \n",
    "              data=df)\n",
    "lr_without_LSTAT = linear_reg.fit()\n",
    "r2_score(y, lr_without_LSTAT.predict(df))"
   ]
  },
  {
   "cell_type": "code",
   "execution_count": null,
   "metadata": {},
   "outputs": [],
   "source": [
    "linear_reg = smf.ols(formula = 'y ~ CRIM + ZN + INDUS + CHAS + NOX + RM + DIS + RAD + TAX + PTRATIO + B + LSTAT', \n",
    "              data=df)\n",
    "lr_without_AGE = linear_reg.fit()\n",
    "r2_score(y, lr_without_AGE.predict(df))"
   ]
  },
  {
   "cell_type": "markdown",
   "metadata": {},
   "source": [
    "# Gradient Descent"
   ]
  },
  {
   "cell_type": "code",
   "execution_count": 86,
   "metadata": {},
   "outputs": [
    {
     "data": {
      "text/html": [
       "<div>\n",
       "<style scoped>\n",
       "    .dataframe tbody tr th:only-of-type {\n",
       "        vertical-align: middle;\n",
       "    }\n",
       "\n",
       "    .dataframe tbody tr th {\n",
       "        vertical-align: top;\n",
       "    }\n",
       "\n",
       "    .dataframe thead th {\n",
       "        text-align: right;\n",
       "    }\n",
       "</style>\n",
       "<table border=\"1\" class=\"dataframe\">\n",
       "  <thead>\n",
       "    <tr style=\"text-align: right;\">\n",
       "      <th></th>\n",
       "      <th>CRIM</th>\n",
       "      <th>ZN</th>\n",
       "      <th>INDUS</th>\n",
       "      <th>CHAS</th>\n",
       "      <th>NOX</th>\n",
       "      <th>RM</th>\n",
       "      <th>AGE</th>\n",
       "      <th>DIS</th>\n",
       "      <th>RAD</th>\n",
       "      <th>TAX</th>\n",
       "      <th>PTRATIO</th>\n",
       "      <th>B</th>\n",
       "      <th>LSTAT</th>\n",
       "    </tr>\n",
       "  </thead>\n",
       "  <tbody>\n",
       "    <tr>\n",
       "      <th>0</th>\n",
       "      <td>0.0063</td>\n",
       "      <td>18.0000</td>\n",
       "      <td>2.3100</td>\n",
       "      <td>0.0000</td>\n",
       "      <td>0.5380</td>\n",
       "      <td>6.5750</td>\n",
       "      <td>65.2000</td>\n",
       "      <td>4.0900</td>\n",
       "      <td>1.0000</td>\n",
       "      <td>296.0000</td>\n",
       "      <td>15.3000</td>\n",
       "      <td>396.9000</td>\n",
       "      <td>4.9800</td>\n",
       "    </tr>\n",
       "    <tr>\n",
       "      <th>1</th>\n",
       "      <td>0.0273</td>\n",
       "      <td>0.0000</td>\n",
       "      <td>7.0700</td>\n",
       "      <td>0.0000</td>\n",
       "      <td>0.4690</td>\n",
       "      <td>6.4210</td>\n",
       "      <td>78.9000</td>\n",
       "      <td>4.9671</td>\n",
       "      <td>2.0000</td>\n",
       "      <td>242.0000</td>\n",
       "      <td>17.8000</td>\n",
       "      <td>396.9000</td>\n",
       "      <td>9.1400</td>\n",
       "    </tr>\n",
       "    <tr>\n",
       "      <th>2</th>\n",
       "      <td>0.0273</td>\n",
       "      <td>0.0000</td>\n",
       "      <td>7.0700</td>\n",
       "      <td>0.0000</td>\n",
       "      <td>0.4690</td>\n",
       "      <td>7.1850</td>\n",
       "      <td>61.1000</td>\n",
       "      <td>4.9671</td>\n",
       "      <td>2.0000</td>\n",
       "      <td>242.0000</td>\n",
       "      <td>17.8000</td>\n",
       "      <td>392.8300</td>\n",
       "      <td>4.0300</td>\n",
       "    </tr>\n",
       "    <tr>\n",
       "      <th>3</th>\n",
       "      <td>0.0324</td>\n",
       "      <td>0.0000</td>\n",
       "      <td>2.1800</td>\n",
       "      <td>0.0000</td>\n",
       "      <td>0.4580</td>\n",
       "      <td>6.9980</td>\n",
       "      <td>45.8000</td>\n",
       "      <td>6.0622</td>\n",
       "      <td>3.0000</td>\n",
       "      <td>222.0000</td>\n",
       "      <td>18.7000</td>\n",
       "      <td>394.6300</td>\n",
       "      <td>2.9400</td>\n",
       "    </tr>\n",
       "    <tr>\n",
       "      <th>4</th>\n",
       "      <td>0.0691</td>\n",
       "      <td>0.0000</td>\n",
       "      <td>2.1800</td>\n",
       "      <td>0.0000</td>\n",
       "      <td>0.4580</td>\n",
       "      <td>7.1470</td>\n",
       "      <td>54.2000</td>\n",
       "      <td>6.0622</td>\n",
       "      <td>3.0000</td>\n",
       "      <td>222.0000</td>\n",
       "      <td>18.7000</td>\n",
       "      <td>396.9000</td>\n",
       "      <td>5.3300</td>\n",
       "    </tr>\n",
       "  </tbody>\n",
       "</table>\n",
       "</div>"
      ],
      "text/plain": [
       "    CRIM      ZN  INDUS   CHAS    NOX     RM     AGE    DIS    RAD      TAX  \\\n",
       "0 0.0063 18.0000 2.3100 0.0000 0.5380 6.5750 65.2000 4.0900 1.0000 296.0000   \n",
       "1 0.0273  0.0000 7.0700 0.0000 0.4690 6.4210 78.9000 4.9671 2.0000 242.0000   \n",
       "2 0.0273  0.0000 7.0700 0.0000 0.4690 7.1850 61.1000 4.9671 2.0000 242.0000   \n",
       "3 0.0324  0.0000 2.1800 0.0000 0.4580 6.9980 45.8000 6.0622 3.0000 222.0000   \n",
       "4 0.0691  0.0000 2.1800 0.0000 0.4580 7.1470 54.2000 6.0622 3.0000 222.0000   \n",
       "\n",
       "   PTRATIO        B  LSTAT  \n",
       "0  15.3000 396.9000 4.9800  \n",
       "1  17.8000 396.9000 9.1400  \n",
       "2  17.8000 392.8300 4.0300  \n",
       "3  18.7000 394.6300 2.9400  \n",
       "4  18.7000 396.9000 5.3300  "
      ]
     },
     "execution_count": 86,
     "metadata": {},
     "output_type": "execute_result"
    }
   ],
   "source": [
    "from sklearn.datasets import load_boston\n",
    "boston_data = load_boston()\n",
    "df = pd.DataFrame(boston_data.data, columns=boston_data.feature_names)\n",
    "df.head()"
   ]
  },
  {
   "cell_type": "code",
   "execution_count": null,
   "metadata": {},
   "outputs": [],
   "source": [
    "X = df[['LSTAT']].values\n",
    "y = boston_data.target"
   ]
  },
  {
   "cell_type": "code",
   "execution_count": null,
   "metadata": {},
   "outputs": [],
   "source": [
    "from sklearn.preprocessing import StandardScaler\n",
    "sc_x = StandardScaler()\n",
    "sc_y = StandardScaler()\n",
    "X_std = sc_x.fit_transform(X)\n",
    "y_std = sc_y.fit_transform(y.reshape(-1,1)).flatten()"
   ]
  },
  {
   "cell_type": "code",
   "execution_count": null,
   "metadata": {},
   "outputs": [],
   "source": [
    "alpha = 0.0001\n",
    "w_ = np.zeros(1 + X_std.shape[1])\n",
    "cost_ = []\n",
    "n_ = 100\n",
    "\n",
    "for i in range(n_):\n",
    "    y_pred = np.dot(X_std, w_[1:]) + w_[0]\n",
    "    errors = (y_std - y_pred)\n",
    "    \n",
    "    w_[1:] += alpha * X_std.T.dot(errors)\n",
    "    w_[0] += alpha * errors.sum()\n",
    "    \n",
    "    cost = (errors**2).sum() / 2.0\n",
    "    cost_.append(cost)"
   ]
  },
  {
   "cell_type": "code",
   "execution_count": 85,
   "metadata": {},
   "outputs": [
    {
     "data": {
      "image/png": "[encoded data removed]",
      "text/plain": [
       "<Figure size 720x576 with 1 Axes>"
      ]
     },
     "metadata": {
      "needs_background": "light"
     },
     "output_type": "display_data"
    }
   ],
   "source": [
    "plt.figure(figsize=(10,8))\n",
    "plt.plot(range(1, n_ + 1), cost_);\n",
    "plt.ylabel('SSE');\n",
    "plt.xlabel('Epoch');"
   ]
  },
  {
   "cell_type": "code",
   "execution_count": 84,
   "metadata": {},
   "outputs": [
    {
     "data": {
      "text/plain": [
       "array([-7.57438556e-16, -7.33562757e-01])"
      ]
     },
     "execution_count": 84,
     "metadata": {},
     "output_type": "execute_result"
    }
   ],
   "source": [
    "w_"
   ]
  },
  {
   "cell_type": "markdown",
   "metadata": {},
   "source": [
    "# Regularised Regression - Example Models"
   ]
  },
  {
   "cell_type": "code",
   "execution_count": 83,
   "metadata": {},
   "outputs": [
    {
     "data": {
      "image/png": "[encoded data removed]",
      "text/plain": [
       "<Figure size 720x576 with 1 Axes>"
      ]
     },
     "metadata": {
      "needs_background": "light"
     },
     "output_type": "display_data"
    }
   ],
   "source": [
    "import numpy as np\n",
    "import matplotlib.pyplot as plt\n",
    "from sklearn import linear_model\n",
    "\n",
    "# X is the 10x10 Hilbert matrix\n",
    "X = 1. / (np.arange(1, 11) + np.arange(0, 10)[:, np.newaxis])\n",
    "y = np.ones(10)\n",
    "\n",
    "# ###########################################################################\n",
    "# Compute paths\n",
    "\n",
    "n_alphas = 200\n",
    "alphas = np.logspace(-10, -2, n_alphas)\n",
    "\n",
    "coefs = []\n",
    "for a in alphas:\n",
    "    ridge = linear_model.Ridge(alpha=a, fit_intercept=False)\n",
    "    ridge.fit(X, y)\n",
    "    coefs.append(ridge.coef_)\n",
    "\n",
    "# ###########################################################################\n",
    "# Display results\n",
    "\n",
    "plt.figure(figsize=(10,8))\n",
    "ax = plt.gca()\n",
    "\n",
    "ax.plot(alphas, coefs)\n",
    "ax.set_xscale('log')\n",
    "ax.set_xlim(ax.get_xlim()[::-1])  # reverse axis\n",
    "plt.xlabel('alpha')\n",
    "plt.ylabel('weights')\n",
    "plt.title('Ridge coefficients as a function of the regularization')\n",
    "plt.axis('tight')\n",
    "plt.show()"
   ]
  },
  {
   "cell_type": "markdown",
   "metadata": {},
   "source": [
    "# Impact of Outliers"
   ]
  },
  {
   "cell_type": "code",
   "execution_count": null,
   "metadata": {},
   "outputs": [],
   "source": [
    "import numpy as np\n",
    "import matplotlib.pyplot as plt\n",
    "import seaborn as sns\n",
    "sns.set_style('whitegrid')\n",
    "%matplotlib inline\n",
    "import pandas as pd"
   ]
  },
  {
   "cell_type": "markdown",
   "metadata": {},
   "source": [
    "# Linear Regression - Another Look"
   ]
  },
  {
   "cell_type": "code",
   "execution_count": null,
   "metadata": {},
   "outputs": [],
   "source": [
    "from sklearn.linear_model import LinearRegression"
   ]
  },
  {
   "cell_type": "code",
   "execution_count": 82,
   "metadata": {},
   "outputs": [
    {
     "name": "stdout",
     "output_type": "stream",
     "text": [
      "Coefficient Estimate:  [0.47134857]\n"
     ]
    },
    {
     "data": {
      "image/png": "[encoded data removed]",
      "text/plain": [
       "<Figure size 720x576 with 1 Axes>"
      ]
     },
     "metadata": {
      "needs_background": "light"
     },
     "output_type": "display_data"
    }
   ],
   "source": [
    "np.random.seed(42)\n",
    "n_samples = 100\n",
    "rng = np.random.randn(n_samples) * 10\n",
    "y_gen = 0.5 * rng + 2 * np.random.randn(n_samples)\n",
    "\n",
    "lr = LinearRegression()\n",
    "lr.fit(rng.reshape(-1, 1), y_gen)\n",
    "model_pred = lr.predict(rng.reshape(-1,1))\n",
    "\n",
    "plt.figure(figsize=(10,8));\n",
    "plt.scatter(rng, y_gen);\n",
    "plt.plot(rng, model_pred);\n",
    "print(\"Coefficient Estimate: \", lr.coef_)"
   ]
  },
  {
   "cell_type": "code",
   "execution_count": null,
   "metadata": {},
   "outputs": [],
   "source": [
    "idx = rng.argmax()\n",
    "y_gen[idx] = 200\n",
    "idx = rng.argmin()\n",
    "y_gen[idx] = -200"
   ]
  },
  {
   "cell_type": "code",
   "execution_count": 81,
   "metadata": {},
   "outputs": [
    {
     "name": "stdout",
     "output_type": "stream",
     "text": [
      "Coefficient Estimate:  [1.50556072]\n"
     ]
    },
    {
     "data": {
      "image/png": "[encoded data removed]",
      "text/plain": [
       "<Figure size 720x576 with 1 Axes>"
      ]
     },
     "metadata": {
      "needs_background": "light"
     },
     "output_type": "display_data"
    }
   ],
   "source": [
    "plt.figure(figsize=(10,8));\n",
    "plt.scatter(rng, y_gen);\n",
    "\n",
    "o_lr = LinearRegression(normalize=True)\n",
    "o_lr.fit(rng.reshape(-1, 1), y_gen)\n",
    "o_model_pred = o_lr.predict(rng.reshape(-1,1))\n",
    "\n",
    "plt.scatter(rng, y_gen);\n",
    "plt.plot(rng, o_model_pred);\n",
    "print(\"Coefficient Estimate: \", o_lr.coef_)"
   ]
  },
  {
   "cell_type": "markdown",
   "metadata": {},
   "source": [
    "# Analysis Using Ridge Regression"
   ]
  },
  {
   "cell_type": "code",
   "execution_count": null,
   "metadata": {},
   "outputs": [],
   "source": [
    "from sklearn.linear_model import Ridge"
   ]
  },
  {
   "cell_type": "code",
   "execution_count": 80,
   "metadata": {},
   "outputs": [
    {
     "name": "stdout",
     "output_type": "stream",
     "text": [
      "Coefficient Estimate:  [1.00370714]\n"
     ]
    },
    {
     "data": {
      "image/png": "[encoded data removed]",
      "text/plain": [
       "<Figure size 720x576 with 1 Axes>"
      ]
     },
     "metadata": {
      "needs_background": "light"
     },
     "output_type": "display_data"
    }
   ],
   "source": [
    "ridge_mod = Ridge(alpha=0.5, normalize=True)\n",
    "ridge_mod.fit(rng.reshape(-1, 1), y_gen)\n",
    "ridge_model_pred = ridge_mod.predict(rng.reshape(-1,1))\n",
    "\n",
    "plt.figure(figsize=(10,8));\n",
    "plt.scatter(rng, y_gen);\n",
    "plt.plot(rng, ridge_model_pred);\n",
    "print(\"Coefficient Estimate: \", ridge_mod.coef_)"
   ]
  },
  {
   "cell_type": "markdown",
   "metadata": {},
   "source": [
    "# Analysis Using Lasso Regression"
   ]
  },
  {
   "cell_type": "code",
   "execution_count": null,
   "metadata": {},
   "outputs": [],
   "source": [
    "from sklearn.linear_model import Lasso"
   ]
  },
  {
   "cell_type": "code",
   "execution_count": 79,
   "metadata": {},
   "outputs": [
    {
     "name": "stdout",
     "output_type": "stream",
     "text": [
      "Coefficient Estimate:  [1.06289489]\n"
     ]
    },
    {
     "data": {
      "image/png": "[encoded data removed]",
      "text/plain": [
       "<Figure size 720x576 with 1 Axes>"
      ]
     },
     "metadata": {
      "needs_background": "light"
     },
     "output_type": "display_data"
    }
   ],
   "source": [
    "lasso_mod = Lasso(alpha=0.4, normalize=True)\n",
    "lasso_mod.fit(rng.reshape(-1, 1), y_gen)\n",
    "lasso_model_pred = lasso_mod.predict(rng.reshape(-1,1))\n",
    "\n",
    "plt.figure(figsize=(10,8));\n",
    "plt.scatter(rng, y_gen);\n",
    "plt.plot(rng, lasso_model_pred);\n",
    "print(\"Coefficient Estimate: \", lasso_mod.coef_)"
   ]
  },
  {
   "cell_type": "markdown",
   "metadata": {},
   "source": [
    "# Analysis Using Elastic Net Regression"
   ]
  },
  {
   "cell_type": "code",
   "execution_count": null,
   "metadata": {},
   "outputs": [],
   "source": [
    "from sklearn.linear_model import ElasticNet"
   ]
  },
  {
   "cell_type": "code",
   "execution_count": 78,
   "metadata": {},
   "outputs": [
    {
     "name": "stdout",
     "output_type": "stream",
     "text": [
      "Coefficient Estimate:  [0.74724704]\n"
     ]
    },
    {
     "data": {
      "image/png": "[encoded data removed]",
      "text/plain": [
       "<Figure size 720x576 with 1 Axes>"
      ]
     },
     "metadata": {
      "needs_background": "light"
     },
     "output_type": "display_data"
    }
   ],
   "source": [
    "en_mod = ElasticNet(alpha=0.02, normalize=True)\n",
    "en_mod.fit(rng.reshape(-1, 1), y_gen)\n",
    "en_model_pred = en_mod.predict(rng.reshape(-1,1))\n",
    "\n",
    "plt.figure(figsize=(10,8));\n",
    "plt.scatter(rng, y_gen);\n",
    "plt.plot(rng, en_model_pred);\n",
    "print(\"Coefficient Estimate: \", en_mod.coef_)"
   ]
  },
  {
   "cell_type": "markdown",
   "metadata": {},
   "source": [
    "# Polynomial Regression - Extending Linear Models"
   ]
  },
  {
   "cell_type": "code",
   "execution_count": null,
   "metadata": {},
   "outputs": [],
   "source": [
    "df_boston = pd.read_csv('housing.data', delim_whitespace=True, header=None)\n",
    "df_boston.columns = ['CRIM', 'ZN' , 'INDUS', 'CHAS', 'NOX', 'RM', 'AGE', \n",
    "              'DIS', 'RAD', 'TAX', 'PTRATIO', 'B', 'LSTAT', 'MEDV']\n",
    "#sns.pairplot(df_boston, size=1.5);"
   ]
  },
  {
   "cell_type": "code",
   "execution_count": 77,
   "metadata": {},
   "outputs": [
    {
     "data": {
      "text/html": [
       "<div>\n",
       "<style scoped>\n",
       "    .dataframe tbody tr th:only-of-type {\n",
       "        vertical-align: middle;\n",
       "    }\n",
       "\n",
       "    .dataframe tbody tr th {\n",
       "        vertical-align: top;\n",
       "    }\n",
       "\n",
       "    .dataframe thead th {\n",
       "        text-align: right;\n",
       "    }\n",
       "</style>\n",
       "<table border=\"1\" class=\"dataframe\">\n",
       "  <thead>\n",
       "    <tr style=\"text-align: right;\">\n",
       "      <th></th>\n",
       "      <th>CRIM</th>\n",
       "      <th>ZN</th>\n",
       "      <th>INDUS</th>\n",
       "      <th>CHAS</th>\n",
       "      <th>NOX</th>\n",
       "      <th>RM</th>\n",
       "      <th>AGE</th>\n",
       "      <th>DIS</th>\n",
       "      <th>RAD</th>\n",
       "      <th>TAX</th>\n",
       "      <th>PTRATIO</th>\n",
       "      <th>B</th>\n",
       "      <th>LSTAT</th>\n",
       "      <th>MEDV</th>\n",
       "    </tr>\n",
       "  </thead>\n",
       "  <tbody>\n",
       "    <tr>\n",
       "      <th>CRIM</th>\n",
       "      <td>1.0000</td>\n",
       "      <td>-0.2005</td>\n",
       "      <td>0.4066</td>\n",
       "      <td>-0.0559</td>\n",
       "      <td>0.4210</td>\n",
       "      <td>-0.2192</td>\n",
       "      <td>0.3527</td>\n",
       "      <td>-0.3797</td>\n",
       "      <td>0.6255</td>\n",
       "      <td>0.5828</td>\n",
       "      <td>0.2899</td>\n",
       "      <td>-0.3851</td>\n",
       "      <td>0.4556</td>\n",
       "      <td>-0.3883</td>\n",
       "    </tr>\n",
       "    <tr>\n",
       "      <th>ZN</th>\n",
       "      <td>-0.2005</td>\n",
       "      <td>1.0000</td>\n",
       "      <td>-0.5338</td>\n",
       "      <td>-0.0427</td>\n",
       "      <td>-0.5166</td>\n",
       "      <td>0.3120</td>\n",
       "      <td>-0.5695</td>\n",
       "      <td>0.6644</td>\n",
       "      <td>-0.3119</td>\n",
       "      <td>-0.3146</td>\n",
       "      <td>-0.3917</td>\n",
       "      <td>0.1755</td>\n",
       "      <td>-0.4130</td>\n",
       "      <td>0.3604</td>\n",
       "    </tr>\n",
       "    <tr>\n",
       "      <th>INDUS</th>\n",
       "      <td>0.4066</td>\n",
       "      <td>-0.5338</td>\n",
       "      <td>1.0000</td>\n",
       "      <td>0.0629</td>\n",
       "      <td>0.7637</td>\n",
       "      <td>-0.3917</td>\n",
       "      <td>0.6448</td>\n",
       "      <td>-0.7080</td>\n",
       "      <td>0.5951</td>\n",
       "      <td>0.7208</td>\n",
       "      <td>0.3832</td>\n",
       "      <td>-0.3570</td>\n",
       "      <td>0.6038</td>\n",
       "      <td>-0.4837</td>\n",
       "    </tr>\n",
       "    <tr>\n",
       "      <th>CHAS</th>\n",
       "      <td>-0.0559</td>\n",
       "      <td>-0.0427</td>\n",
       "      <td>0.0629</td>\n",
       "      <td>1.0000</td>\n",
       "      <td>0.0912</td>\n",
       "      <td>0.0913</td>\n",
       "      <td>0.0865</td>\n",
       "      <td>-0.0992</td>\n",
       "      <td>-0.0074</td>\n",
       "      <td>-0.0356</td>\n",
       "      <td>-0.1215</td>\n",
       "      <td>0.0488</td>\n",
       "      <td>-0.0539</td>\n",
       "      <td>0.1753</td>\n",
       "    </tr>\n",
       "    <tr>\n",
       "      <th>NOX</th>\n",
       "      <td>0.4210</td>\n",
       "      <td>-0.5166</td>\n",
       "      <td>0.7637</td>\n",
       "      <td>0.0912</td>\n",
       "      <td>1.0000</td>\n",
       "      <td>-0.3022</td>\n",
       "      <td>0.7315</td>\n",
       "      <td>-0.7692</td>\n",
       "      <td>0.6114</td>\n",
       "      <td>0.6680</td>\n",
       "      <td>0.1889</td>\n",
       "      <td>-0.3801</td>\n",
       "      <td>0.5909</td>\n",
       "      <td>-0.4273</td>\n",
       "    </tr>\n",
       "    <tr>\n",
       "      <th>RM</th>\n",
       "      <td>-0.2192</td>\n",
       "      <td>0.3120</td>\n",
       "      <td>-0.3917</td>\n",
       "      <td>0.0913</td>\n",
       "      <td>-0.3022</td>\n",
       "      <td>1.0000</td>\n",
       "      <td>-0.2403</td>\n",
       "      <td>0.2052</td>\n",
       "      <td>-0.2098</td>\n",
       "      <td>-0.2920</td>\n",
       "      <td>-0.3555</td>\n",
       "      <td>0.1281</td>\n",
       "      <td>-0.6138</td>\n",
       "      <td>0.6954</td>\n",
       "    </tr>\n",
       "    <tr>\n",
       "      <th>AGE</th>\n",
       "      <td>0.3527</td>\n",
       "      <td>-0.5695</td>\n",
       "      <td>0.6448</td>\n",
       "      <td>0.0865</td>\n",
       "      <td>0.7315</td>\n",
       "      <td>-0.2403</td>\n",
       "      <td>1.0000</td>\n",
       "      <td>-0.7479</td>\n",
       "      <td>0.4560</td>\n",
       "      <td>0.5065</td>\n",
       "      <td>0.2615</td>\n",
       "      <td>-0.2735</td>\n",
       "      <td>0.6023</td>\n",
       "      <td>-0.3770</td>\n",
       "    </tr>\n",
       "    <tr>\n",
       "      <th>DIS</th>\n",
       "      <td>-0.3797</td>\n",
       "      <td>0.6644</td>\n",
       "      <td>-0.7080</td>\n",
       "      <td>-0.0992</td>\n",
       "      <td>-0.7692</td>\n",
       "      <td>0.2052</td>\n",
       "      <td>-0.7479</td>\n",
       "      <td>1.0000</td>\n",
       "      <td>-0.4946</td>\n",
       "      <td>-0.5344</td>\n",
       "      <td>-0.2325</td>\n",
       "      <td>0.2915</td>\n",
       "      <td>-0.4970</td>\n",
       "      <td>0.2499</td>\n",
       "    </tr>\n",
       "    <tr>\n",
       "      <th>RAD</th>\n",
       "      <td>0.6255</td>\n",
       "      <td>-0.3119</td>\n",
       "      <td>0.5951</td>\n",
       "      <td>-0.0074</td>\n",
       "      <td>0.6114</td>\n",
       "      <td>-0.2098</td>\n",
       "      <td>0.4560</td>\n",
       "      <td>-0.4946</td>\n",
       "      <td>1.0000</td>\n",
       "      <td>0.9102</td>\n",
       "      <td>0.4647</td>\n",
       "      <td>-0.4444</td>\n",
       "      <td>0.4887</td>\n",
       "      <td>-0.3816</td>\n",
       "    </tr>\n",
       "    <tr>\n",
       "      <th>TAX</th>\n",
       "      <td>0.5828</td>\n",
       "      <td>-0.3146</td>\n",
       "      <td>0.7208</td>\n",
       "      <td>-0.0356</td>\n",
       "      <td>0.6680</td>\n",
       "      <td>-0.2920</td>\n",
       "      <td>0.5065</td>\n",
       "      <td>-0.5344</td>\n",
       "      <td>0.9102</td>\n",
       "      <td>1.0000</td>\n",
       "      <td>0.4609</td>\n",
       "      <td>-0.4418</td>\n",
       "      <td>0.5440</td>\n",
       "      <td>-0.4685</td>\n",
       "    </tr>\n",
       "    <tr>\n",
       "      <th>PTRATIO</th>\n",
       "      <td>0.2899</td>\n",
       "      <td>-0.3917</td>\n",
       "      <td>0.3832</td>\n",
       "      <td>-0.1215</td>\n",
       "      <td>0.1889</td>\n",
       "      <td>-0.3555</td>\n",
       "      <td>0.2615</td>\n",
       "      <td>-0.2325</td>\n",
       "      <td>0.4647</td>\n",
       "      <td>0.4609</td>\n",
       "      <td>1.0000</td>\n",
       "      <td>-0.1774</td>\n",
       "      <td>0.3740</td>\n",
       "      <td>-0.5078</td>\n",
       "    </tr>\n",
       "    <tr>\n",
       "      <th>B</th>\n",
       "      <td>-0.3851</td>\n",
       "      <td>0.1755</td>\n",
       "      <td>-0.3570</td>\n",
       "      <td>0.0488</td>\n",
       "      <td>-0.3801</td>\n",
       "      <td>0.1281</td>\n",
       "      <td>-0.2735</td>\n",
       "      <td>0.2915</td>\n",
       "      <td>-0.4444</td>\n",
       "      <td>-0.4418</td>\n",
       "      <td>-0.1774</td>\n",
       "      <td>1.0000</td>\n",
       "      <td>-0.3661</td>\n",
       "      <td>0.3335</td>\n",
       "    </tr>\n",
       "    <tr>\n",
       "      <th>LSTAT</th>\n",
       "      <td>0.4556</td>\n",
       "      <td>-0.4130</td>\n",
       "      <td>0.6038</td>\n",
       "      <td>-0.0539</td>\n",
       "      <td>0.5909</td>\n",
       "      <td>-0.6138</td>\n",
       "      <td>0.6023</td>\n",
       "      <td>-0.4970</td>\n",
       "      <td>0.4887</td>\n",
       "      <td>0.5440</td>\n",
       "      <td>0.3740</td>\n",
       "      <td>-0.3661</td>\n",
       "      <td>1.0000</td>\n",
       "      <td>-0.7377</td>\n",
       "    </tr>\n",
       "    <tr>\n",
       "      <th>MEDV</th>\n",
       "      <td>-0.3883</td>\n",
       "      <td>0.3604</td>\n",
       "      <td>-0.4837</td>\n",
       "      <td>0.1753</td>\n",
       "      <td>-0.4273</td>\n",
       "      <td>0.6954</td>\n",
       "      <td>-0.3770</td>\n",
       "      <td>0.2499</td>\n",
       "      <td>-0.3816</td>\n",
       "      <td>-0.4685</td>\n",
       "      <td>-0.5078</td>\n",
       "      <td>0.3335</td>\n",
       "      <td>-0.7377</td>\n",
       "      <td>1.0000</td>\n",
       "    </tr>\n",
       "  </tbody>\n",
       "</table>\n",
       "</div>"
      ],
      "text/plain": [
       "           CRIM      ZN   INDUS    CHAS     NOX      RM     AGE     DIS  \\\n",
       "CRIM     1.0000 -0.2005  0.4066 -0.0559  0.4210 -0.2192  0.3527 -0.3797   \n",
       "ZN      -0.2005  1.0000 -0.5338 -0.0427 -0.5166  0.3120 -0.5695  0.6644   \n",
       "INDUS    0.4066 -0.5338  1.0000  0.0629  0.7637 -0.3917  0.6448 -0.7080   \n",
       "CHAS    -0.0559 -0.0427  0.0629  1.0000  0.0912  0.0913  0.0865 -0.0992   \n",
       "NOX      0.4210 -0.5166  0.7637  0.0912  1.0000 -0.3022  0.7315 -0.7692   \n",
       "RM      -0.2192  0.3120 -0.3917  0.0913 -0.3022  1.0000 -0.2403  0.2052   \n",
       "AGE      0.3527 -0.5695  0.6448  0.0865  0.7315 -0.2403  1.0000 -0.7479   \n",
       "DIS     -0.3797  0.6644 -0.7080 -0.0992 -0.7692  0.2052 -0.7479  1.0000   \n",
       "RAD      0.6255 -0.3119  0.5951 -0.0074  0.6114 -0.2098  0.4560 -0.4946   \n",
       "TAX      0.5828 -0.3146  0.7208 -0.0356  0.6680 -0.2920  0.5065 -0.5344   \n",
       "PTRATIO  0.2899 -0.3917  0.3832 -0.1215  0.1889 -0.3555  0.2615 -0.2325   \n",
       "B       -0.3851  0.1755 -0.3570  0.0488 -0.3801  0.1281 -0.2735  0.2915   \n",
       "LSTAT    0.4556 -0.4130  0.6038 -0.0539  0.5909 -0.6138  0.6023 -0.4970   \n",
       "MEDV    -0.3883  0.3604 -0.4837  0.1753 -0.4273  0.6954 -0.3770  0.2499   \n",
       "\n",
       "            RAD     TAX  PTRATIO       B   LSTAT    MEDV  \n",
       "CRIM     0.6255  0.5828   0.2899 -0.3851  0.4556 -0.3883  \n",
       "ZN      -0.3119 -0.3146  -0.3917  0.1755 -0.4130  0.3604  \n",
       "INDUS    0.5951  0.7208   0.3832 -0.3570  0.6038 -0.4837  \n",
       "CHAS    -0.0074 -0.0356  -0.1215  0.0488 -0.0539  0.1753  \n",
       "NOX      0.6114  0.6680   0.1889 -0.3801  0.5909 -0.4273  \n",
       "RM      -0.2098 -0.2920  -0.3555  0.1281 -0.6138  0.6954  \n",
       "AGE      0.4560  0.5065   0.2615 -0.2735  0.6023 -0.3770  \n",
       "DIS     -0.4946 -0.5344  -0.2325  0.2915 -0.4970  0.2499  \n",
       "RAD      1.0000  0.9102   0.4647 -0.4444  0.4887 -0.3816  \n",
       "TAX      0.9102  1.0000   0.4609 -0.4418  0.5440 -0.4685  \n",
       "PTRATIO  0.4647  0.4609   1.0000 -0.1774  0.3740 -0.5078  \n",
       "B       -0.4444 -0.4418  -0.1774  1.0000 -0.3661  0.3335  \n",
       "LSTAT    0.4887  0.5440   0.3740 -0.3661  1.0000 -0.7377  \n",
       "MEDV    -0.3816 -0.4685  -0.5078  0.3335 -0.7377  1.0000  "
      ]
     },
     "execution_count": 77,
     "metadata": {},
     "output_type": "execute_result"
    }
   ],
   "source": [
    "df_boston.corr()"
   ]
  },
  {
   "cell_type": "code",
   "execution_count": 76,
   "metadata": {},
   "outputs": [],
   "source": [
    "X_boston = df_boston['DIS'].values\n",
    "y_boston = df_boston['NOX'].values"
   ]
  },
  {
   "cell_type": "code",
   "execution_count": 75,
   "metadata": {},
   "outputs": [
    {
     "data": {
      "image/png": "[encoded data removed]",
      "text/plain": [
       "<Figure size 864x576 with 1 Axes>"
      ]
     },
     "metadata": {
      "needs_background": "light"
     },
     "output_type": "display_data"
    }
   ],
   "source": [
    "plt.figure(figsize=(12,8))\n",
    "plt.scatter(X_boston, y_boston);"
   ]
  },
  {
   "cell_type": "markdown",
   "metadata": {},
   "source": [
    "# Linear"
   ]
  },
  {
   "cell_type": "code",
   "execution_count": 74,
   "metadata": {},
   "outputs": [
    {
     "name": "stdout",
     "output_type": "stream",
     "text": [
      "R^2 score = 0.59\n"
     ]
    },
    {
     "data": {
      "image/png": "[encoded data removed]",
      "text/plain": [
       "<Figure size 864x576 with 1 Axes>"
      ]
     },
     "metadata": {
      "needs_background": "light"
     },
     "output_type": "display_data"
    }
   ],
   "source": [
    "lr = LinearRegression()\n",
    "lr.fit(X_boston.reshape(-1, 1), y_boston)\n",
    "model_pred = lr.predict(X_boston.reshape(-1,1))\n",
    "plt.figure(figsize=(12,8))\n",
    "plt.scatter(X_boston, y_boston);\n",
    "plt.plot(X_boston, model_pred);\n",
    "print(\"R^2 score = {:.2f}\".format(r2_score(y_boston, model_pred)))"
   ]
  },
  {
   "cell_type": "markdown",
   "metadata": {},
   "source": []
  },
  {
   "cell_type": "code",
   "execution_count": null,
   "metadata": {},
   "outputs": [],
   "source": []
  },
  {
   "cell_type": "code",
   "execution_count": null,
   "metadata": {},
   "outputs": [],
   "source": []
  },
  {
   "cell_type": "code",
   "execution_count": null,
   "metadata": {},
   "outputs": [],
   "source": []
  },
  {
   "cell_type": "code",
   "execution_count": null,
   "metadata": {},
   "outputs": [],
   "source": []
  },
  {
   "cell_type": "code",
   "execution_count": null,
   "metadata": {},
   "outputs": [],
   "source": []
  },
  {
   "cell_type": "code",
   "execution_count": null,
   "metadata": {},
   "outputs": [],
   "source": []
  },
  {
   "cell_type": "code",
   "execution_count": null,
   "metadata": {},
   "outputs": [],
   "source": []
  }
 ],
 "metadata": {
  "kernelspec": {
   "display_name": "Python 3",
   "language": "python",
   "name": "python3"
  },
  "language_info": {
   "codemirror_mode": {
    "name": "ipython",
    "version": 3
   },
   "file_extension": ".py",
   "mimetype": "text/x-python",
   "name": "python",
   "nbconvert_exporter": "python",
   "pygments_lexer": "ipython3",
   "version": "3.7.3"
  }
 },
 "nbformat": 4,
 "nbformat_minor": 2
}
